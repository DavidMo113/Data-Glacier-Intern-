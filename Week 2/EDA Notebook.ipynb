{
 "cells": [
  {
   "cell_type": "code",
   "execution_count": 165,
   "id": "53c9786f",
   "metadata": {},
   "outputs": [],
   "source": [
    "import numpy as np\n",
    "import pandas as pd\n",
    "import matplotlib.pyplot as plt\n",
    "from sklearn.preprocessing import MinMaxScaler"
   ]
  },
  {
   "cell_type": "code",
   "execution_count": 2,
   "id": "5b78ceef",
   "metadata": {},
   "outputs": [],
   "source": [
    "cab = pd.read_csv('Cab_Data.csv')\n",
    "city = pd.read_csv('City.csv')\n",
    "customer = pd.read_csv('Customer_ID.csv')\n",
    "transaction = pd.read_csv('Transaction_ID.csv')"
   ]
  },
  {
   "cell_type": "code",
   "execution_count": 8,
   "id": "d7f14f12",
   "metadata": {},
   "outputs": [
    {
     "name": "stdout",
     "output_type": "stream",
     "text": [
      "<class 'pandas.core.frame.DataFrame'>\n",
      "RangeIndex: 359392 entries, 0 to 359391\n",
      "Data columns (total 7 columns):\n",
      " #   Column          Non-Null Count   Dtype  \n",
      "---  ------          --------------   -----  \n",
      " 0   Transaction ID  359392 non-null  int64  \n",
      " 1   Date of Travel  359392 non-null  int64  \n",
      " 2   Company         359392 non-null  object \n",
      " 3   City            359392 non-null  object \n",
      " 4   KM Travelled    359392 non-null  float64\n",
      " 5   Price Charged   359392 non-null  float64\n",
      " 6   Cost of Trip    359392 non-null  float64\n",
      "dtypes: float64(3), int64(2), object(2)\n",
      "memory usage: 19.2+ MB\n"
     ]
    }
   ],
   "source": [
    "cab.info()"
   ]
  },
  {
   "cell_type": "code",
   "execution_count": 11,
   "id": "6f7b6560",
   "metadata": {},
   "outputs": [
    {
     "name": "stdout",
     "output_type": "stream",
     "text": [
      "<class 'pandas.core.frame.DataFrame'>\n",
      "RangeIndex: 20 entries, 0 to 19\n",
      "Data columns (total 3 columns):\n",
      " #   Column      Non-Null Count  Dtype \n",
      "---  ------      --------------  ----- \n",
      " 0   City        20 non-null     object\n",
      " 1   Population  20 non-null     object\n",
      " 2   Users       20 non-null     object\n",
      "dtypes: object(3)\n",
      "memory usage: 608.0+ bytes\n"
     ]
    }
   ],
   "source": [
    "city.info()"
   ]
  },
  {
   "cell_type": "code",
   "execution_count": 17,
   "id": "3baab1f5",
   "metadata": {},
   "outputs": [
    {
     "name": "stdout",
     "output_type": "stream",
     "text": [
      "<class 'pandas.core.frame.DataFrame'>\n",
      "RangeIndex: 49171 entries, 0 to 49170\n",
      "Data columns (total 4 columns):\n",
      " #   Column              Non-Null Count  Dtype \n",
      "---  ------              --------------  ----- \n",
      " 0   Customer ID         49171 non-null  int64 \n",
      " 1   Gender              49171 non-null  object\n",
      " 2   Age                 49171 non-null  int64 \n",
      " 3   Income (USD/Month)  49171 non-null  int64 \n",
      "dtypes: int64(3), object(1)\n",
      "memory usage: 1.5+ MB\n"
     ]
    }
   ],
   "source": [
    "customer.info()"
   ]
  },
  {
   "cell_type": "code",
   "execution_count": 15,
   "id": "bdb80d17",
   "metadata": {},
   "outputs": [
    {
     "name": "stdout",
     "output_type": "stream",
     "text": [
      "<class 'pandas.core.frame.DataFrame'>\n",
      "RangeIndex: 440098 entries, 0 to 440097\n",
      "Data columns (total 3 columns):\n",
      " #   Column          Non-Null Count   Dtype \n",
      "---  ------          --------------   ----- \n",
      " 0   Transaction ID  440098 non-null  int64 \n",
      " 1   Customer ID     440098 non-null  int64 \n",
      " 2   Payment_Mode    440098 non-null  object\n",
      "dtypes: int64(2), object(1)\n",
      "memory usage: 10.1+ MB\n"
     ]
    }
   ],
   "source": [
    "transaction.info()"
   ]
  },
  {
   "cell_type": "code",
   "execution_count": 29,
   "id": "4f669e58",
   "metadata": {},
   "outputs": [
    {
     "data": {
      "text/html": [
       "<div>\n",
       "<style scoped>\n",
       "    .dataframe tbody tr th:only-of-type {\n",
       "        vertical-align: middle;\n",
       "    }\n",
       "\n",
       "    .dataframe tbody tr th {\n",
       "        vertical-align: top;\n",
       "    }\n",
       "\n",
       "    .dataframe thead th {\n",
       "        text-align: right;\n",
       "    }\n",
       "</style>\n",
       "<table border=\"1\" class=\"dataframe\">\n",
       "  <thead>\n",
       "    <tr style=\"text-align: right;\">\n",
       "      <th></th>\n",
       "      <th>Transaction ID</th>\n",
       "      <th>Date of Travel</th>\n",
       "      <th>Company</th>\n",
       "      <th>City</th>\n",
       "      <th>KM Travelled</th>\n",
       "      <th>Price Charged</th>\n",
       "      <th>Cost of Trip</th>\n",
       "    </tr>\n",
       "  </thead>\n",
       "  <tbody>\n",
       "    <tr>\n",
       "      <th>0</th>\n",
       "      <td>10000011</td>\n",
       "      <td>42377</td>\n",
       "      <td>Pink Cab</td>\n",
       "      <td>ATLANTA GA</td>\n",
       "      <td>30.45</td>\n",
       "      <td>370.95</td>\n",
       "      <td>313.635</td>\n",
       "    </tr>\n",
       "    <tr>\n",
       "      <th>1</th>\n",
       "      <td>10000012</td>\n",
       "      <td>42375</td>\n",
       "      <td>Pink Cab</td>\n",
       "      <td>ATLANTA GA</td>\n",
       "      <td>28.62</td>\n",
       "      <td>358.52</td>\n",
       "      <td>334.854</td>\n",
       "    </tr>\n",
       "    <tr>\n",
       "      <th>2</th>\n",
       "      <td>10000013</td>\n",
       "      <td>42371</td>\n",
       "      <td>Pink Cab</td>\n",
       "      <td>ATLANTA GA</td>\n",
       "      <td>9.04</td>\n",
       "      <td>125.20</td>\n",
       "      <td>97.632</td>\n",
       "    </tr>\n",
       "    <tr>\n",
       "      <th>3</th>\n",
       "      <td>10000014</td>\n",
       "      <td>42376</td>\n",
       "      <td>Pink Cab</td>\n",
       "      <td>ATLANTA GA</td>\n",
       "      <td>33.17</td>\n",
       "      <td>377.40</td>\n",
       "      <td>351.602</td>\n",
       "    </tr>\n",
       "    <tr>\n",
       "      <th>4</th>\n",
       "      <td>10000015</td>\n",
       "      <td>42372</td>\n",
       "      <td>Pink Cab</td>\n",
       "      <td>ATLANTA GA</td>\n",
       "      <td>8.73</td>\n",
       "      <td>114.62</td>\n",
       "      <td>97.776</td>\n",
       "    </tr>\n",
       "  </tbody>\n",
       "</table>\n",
       "</div>"
      ],
      "text/plain": [
       "   Transaction ID  Date of Travel   Company        City  KM Travelled  \\\n",
       "0        10000011           42377  Pink Cab  ATLANTA GA         30.45   \n",
       "1        10000012           42375  Pink Cab  ATLANTA GA         28.62   \n",
       "2        10000013           42371  Pink Cab  ATLANTA GA          9.04   \n",
       "3        10000014           42376  Pink Cab  ATLANTA GA         33.17   \n",
       "4        10000015           42372  Pink Cab  ATLANTA GA          8.73   \n",
       "\n",
       "   Price Charged  Cost of Trip  \n",
       "0         370.95       313.635  \n",
       "1         358.52       334.854  \n",
       "2         125.20        97.632  \n",
       "3         377.40       351.602  \n",
       "4         114.62        97.776  "
      ]
     },
     "execution_count": 29,
     "metadata": {},
     "output_type": "execute_result"
    }
   ],
   "source": [
    "cab.head(5)"
   ]
  },
  {
   "cell_type": "code",
   "execution_count": 30,
   "id": "92da3a54",
   "metadata": {},
   "outputs": [
    {
     "data": {
      "text/html": [
       "<div>\n",
       "<style scoped>\n",
       "    .dataframe tbody tr th:only-of-type {\n",
       "        vertical-align: middle;\n",
       "    }\n",
       "\n",
       "    .dataframe tbody tr th {\n",
       "        vertical-align: top;\n",
       "    }\n",
       "\n",
       "    .dataframe thead th {\n",
       "        text-align: right;\n",
       "    }\n",
       "</style>\n",
       "<table border=\"1\" class=\"dataframe\">\n",
       "  <thead>\n",
       "    <tr style=\"text-align: right;\">\n",
       "      <th></th>\n",
       "      <th>City</th>\n",
       "      <th>Population</th>\n",
       "      <th>Users</th>\n",
       "    </tr>\n",
       "  </thead>\n",
       "  <tbody>\n",
       "    <tr>\n",
       "      <th>0</th>\n",
       "      <td>NEW YORK NY</td>\n",
       "      <td>8,405,837</td>\n",
       "      <td>302,149</td>\n",
       "    </tr>\n",
       "    <tr>\n",
       "      <th>1</th>\n",
       "      <td>CHICAGO IL</td>\n",
       "      <td>1,955,130</td>\n",
       "      <td>164,468</td>\n",
       "    </tr>\n",
       "    <tr>\n",
       "      <th>2</th>\n",
       "      <td>LOS ANGELES CA</td>\n",
       "      <td>1,595,037</td>\n",
       "      <td>144,132</td>\n",
       "    </tr>\n",
       "    <tr>\n",
       "      <th>3</th>\n",
       "      <td>MIAMI FL</td>\n",
       "      <td>1,339,155</td>\n",
       "      <td>17,675</td>\n",
       "    </tr>\n",
       "    <tr>\n",
       "      <th>4</th>\n",
       "      <td>SILICON VALLEY</td>\n",
       "      <td>1,177,609</td>\n",
       "      <td>27,247</td>\n",
       "    </tr>\n",
       "  </tbody>\n",
       "</table>\n",
       "</div>"
      ],
      "text/plain": [
       "             City   Population      Users\n",
       "0     NEW YORK NY   8,405,837    302,149 \n",
       "1      CHICAGO IL   1,955,130    164,468 \n",
       "2  LOS ANGELES CA   1,595,037    144,132 \n",
       "3        MIAMI FL   1,339,155     17,675 \n",
       "4  SILICON VALLEY   1,177,609     27,247 "
      ]
     },
     "execution_count": 30,
     "metadata": {},
     "output_type": "execute_result"
    }
   ],
   "source": [
    "city.head(5)"
   ]
  },
  {
   "cell_type": "code",
   "execution_count": 31,
   "id": "1615ad12",
   "metadata": {},
   "outputs": [
    {
     "data": {
      "text/html": [
       "<div>\n",
       "<style scoped>\n",
       "    .dataframe tbody tr th:only-of-type {\n",
       "        vertical-align: middle;\n",
       "    }\n",
       "\n",
       "    .dataframe tbody tr th {\n",
       "        vertical-align: top;\n",
       "    }\n",
       "\n",
       "    .dataframe thead th {\n",
       "        text-align: right;\n",
       "    }\n",
       "</style>\n",
       "<table border=\"1\" class=\"dataframe\">\n",
       "  <thead>\n",
       "    <tr style=\"text-align: right;\">\n",
       "      <th></th>\n",
       "      <th>Customer ID</th>\n",
       "      <th>Gender</th>\n",
       "      <th>Age</th>\n",
       "      <th>Income (USD/Month)</th>\n",
       "    </tr>\n",
       "  </thead>\n",
       "  <tbody>\n",
       "    <tr>\n",
       "      <th>0</th>\n",
       "      <td>29290</td>\n",
       "      <td>Male</td>\n",
       "      <td>28</td>\n",
       "      <td>10813</td>\n",
       "    </tr>\n",
       "    <tr>\n",
       "      <th>1</th>\n",
       "      <td>27703</td>\n",
       "      <td>Male</td>\n",
       "      <td>27</td>\n",
       "      <td>9237</td>\n",
       "    </tr>\n",
       "    <tr>\n",
       "      <th>2</th>\n",
       "      <td>28712</td>\n",
       "      <td>Male</td>\n",
       "      <td>53</td>\n",
       "      <td>11242</td>\n",
       "    </tr>\n",
       "    <tr>\n",
       "      <th>3</th>\n",
       "      <td>28020</td>\n",
       "      <td>Male</td>\n",
       "      <td>23</td>\n",
       "      <td>23327</td>\n",
       "    </tr>\n",
       "    <tr>\n",
       "      <th>4</th>\n",
       "      <td>27182</td>\n",
       "      <td>Male</td>\n",
       "      <td>33</td>\n",
       "      <td>8536</td>\n",
       "    </tr>\n",
       "  </tbody>\n",
       "</table>\n",
       "</div>"
      ],
      "text/plain": [
       "   Customer ID Gender  Age  Income (USD/Month)\n",
       "0        29290   Male   28               10813\n",
       "1        27703   Male   27                9237\n",
       "2        28712   Male   53               11242\n",
       "3        28020   Male   23               23327\n",
       "4        27182   Male   33                8536"
      ]
     },
     "execution_count": 31,
     "metadata": {},
     "output_type": "execute_result"
    }
   ],
   "source": [
    "customer.head(5)"
   ]
  },
  {
   "cell_type": "code",
   "execution_count": 32,
   "id": "e40d1449",
   "metadata": {},
   "outputs": [
    {
     "data": {
      "text/html": [
       "<div>\n",
       "<style scoped>\n",
       "    .dataframe tbody tr th:only-of-type {\n",
       "        vertical-align: middle;\n",
       "    }\n",
       "\n",
       "    .dataframe tbody tr th {\n",
       "        vertical-align: top;\n",
       "    }\n",
       "\n",
       "    .dataframe thead th {\n",
       "        text-align: right;\n",
       "    }\n",
       "</style>\n",
       "<table border=\"1\" class=\"dataframe\">\n",
       "  <thead>\n",
       "    <tr style=\"text-align: right;\">\n",
       "      <th></th>\n",
       "      <th>Transaction ID</th>\n",
       "      <th>Customer ID</th>\n",
       "      <th>Payment_Mode</th>\n",
       "    </tr>\n",
       "  </thead>\n",
       "  <tbody>\n",
       "    <tr>\n",
       "      <th>0</th>\n",
       "      <td>10000011</td>\n",
       "      <td>29290</td>\n",
       "      <td>Card</td>\n",
       "    </tr>\n",
       "    <tr>\n",
       "      <th>1</th>\n",
       "      <td>10000012</td>\n",
       "      <td>27703</td>\n",
       "      <td>Card</td>\n",
       "    </tr>\n",
       "    <tr>\n",
       "      <th>2</th>\n",
       "      <td>10000013</td>\n",
       "      <td>28712</td>\n",
       "      <td>Cash</td>\n",
       "    </tr>\n",
       "    <tr>\n",
       "      <th>3</th>\n",
       "      <td>10000014</td>\n",
       "      <td>28020</td>\n",
       "      <td>Cash</td>\n",
       "    </tr>\n",
       "    <tr>\n",
       "      <th>4</th>\n",
       "      <td>10000015</td>\n",
       "      <td>27182</td>\n",
       "      <td>Card</td>\n",
       "    </tr>\n",
       "  </tbody>\n",
       "</table>\n",
       "</div>"
      ],
      "text/plain": [
       "   Transaction ID  Customer ID Payment_Mode\n",
       "0        10000011        29290         Card\n",
       "1        10000012        27703         Card\n",
       "2        10000013        28712         Cash\n",
       "3        10000014        28020         Cash\n",
       "4        10000015        27182         Card"
      ]
     },
     "execution_count": 32,
     "metadata": {},
     "output_type": "execute_result"
    }
   ],
   "source": [
    "transaction.head(5)"
   ]
  },
  {
   "cell_type": "code",
   "execution_count": 28,
   "id": "b2cf84b4",
   "metadata": {},
   "outputs": [
    {
     "data": {
      "text/html": [
       "<div>\n",
       "<style scoped>\n",
       "    .dataframe tbody tr th:only-of-type {\n",
       "        vertical-align: middle;\n",
       "    }\n",
       "\n",
       "    .dataframe tbody tr th {\n",
       "        vertical-align: top;\n",
       "    }\n",
       "\n",
       "    .dataframe thead th {\n",
       "        text-align: right;\n",
       "    }\n",
       "</style>\n",
       "<table border=\"1\" class=\"dataframe\">\n",
       "  <thead>\n",
       "    <tr style=\"text-align: right;\">\n",
       "      <th></th>\n",
       "      <th>Customer ID</th>\n",
       "      <th>Gender</th>\n",
       "      <th>Age</th>\n",
       "      <th>Income (USD/Month)</th>\n",
       "      <th>Transaction ID</th>\n",
       "      <th>Payment_Mode</th>\n",
       "      <th>Date of Travel</th>\n",
       "      <th>Company</th>\n",
       "      <th>City</th>\n",
       "      <th>KM Travelled</th>\n",
       "      <th>Price Charged</th>\n",
       "      <th>Cost of Trip</th>\n",
       "      <th>Population</th>\n",
       "      <th>Users</th>\n",
       "    </tr>\n",
       "  </thead>\n",
       "  <tbody>\n",
       "    <tr>\n",
       "      <th>0</th>\n",
       "      <td>29290</td>\n",
       "      <td>Male</td>\n",
       "      <td>28</td>\n",
       "      <td>10813</td>\n",
       "      <td>10000011</td>\n",
       "      <td>Card</td>\n",
       "      <td>42377</td>\n",
       "      <td>Pink Cab</td>\n",
       "      <td>ATLANTA GA</td>\n",
       "      <td>30.45</td>\n",
       "      <td>370.95</td>\n",
       "      <td>313.6350</td>\n",
       "      <td>814,885</td>\n",
       "      <td>24,701</td>\n",
       "    </tr>\n",
       "    <tr>\n",
       "      <th>1</th>\n",
       "      <td>29290</td>\n",
       "      <td>Male</td>\n",
       "      <td>28</td>\n",
       "      <td>10813</td>\n",
       "      <td>10351127</td>\n",
       "      <td>Cash</td>\n",
       "      <td>43302</td>\n",
       "      <td>Yellow Cab</td>\n",
       "      <td>ATLANTA GA</td>\n",
       "      <td>26.19</td>\n",
       "      <td>598.70</td>\n",
       "      <td>317.4228</td>\n",
       "      <td>814,885</td>\n",
       "      <td>24,701</td>\n",
       "    </tr>\n",
       "    <tr>\n",
       "      <th>2</th>\n",
       "      <td>29290</td>\n",
       "      <td>Male</td>\n",
       "      <td>28</td>\n",
       "      <td>10813</td>\n",
       "      <td>10412921</td>\n",
       "      <td>Card</td>\n",
       "      <td>43427</td>\n",
       "      <td>Yellow Cab</td>\n",
       "      <td>ATLANTA GA</td>\n",
       "      <td>42.55</td>\n",
       "      <td>792.05</td>\n",
       "      <td>597.4020</td>\n",
       "      <td>814,885</td>\n",
       "      <td>24,701</td>\n",
       "    </tr>\n",
       "    <tr>\n",
       "      <th>3</th>\n",
       "      <td>27703</td>\n",
       "      <td>Male</td>\n",
       "      <td>27</td>\n",
       "      <td>9237</td>\n",
       "      <td>10000012</td>\n",
       "      <td>Card</td>\n",
       "      <td>42375</td>\n",
       "      <td>Pink Cab</td>\n",
       "      <td>ATLANTA GA</td>\n",
       "      <td>28.62</td>\n",
       "      <td>358.52</td>\n",
       "      <td>334.8540</td>\n",
       "      <td>814,885</td>\n",
       "      <td>24,701</td>\n",
       "    </tr>\n",
       "    <tr>\n",
       "      <th>4</th>\n",
       "      <td>27703</td>\n",
       "      <td>Male</td>\n",
       "      <td>27</td>\n",
       "      <td>9237</td>\n",
       "      <td>10320494</td>\n",
       "      <td>Card</td>\n",
       "      <td>43211</td>\n",
       "      <td>Yellow Cab</td>\n",
       "      <td>ATLANTA GA</td>\n",
       "      <td>36.38</td>\n",
       "      <td>721.10</td>\n",
       "      <td>467.1192</td>\n",
       "      <td>814,885</td>\n",
       "      <td>24,701</td>\n",
       "    </tr>\n",
       "    <tr>\n",
       "      <th>...</th>\n",
       "      <td>...</td>\n",
       "      <td>...</td>\n",
       "      <td>...</td>\n",
       "      <td>...</td>\n",
       "      <td>...</td>\n",
       "      <td>...</td>\n",
       "      <td>...</td>\n",
       "      <td>...</td>\n",
       "      <td>...</td>\n",
       "      <td>...</td>\n",
       "      <td>...</td>\n",
       "      <td>...</td>\n",
       "      <td>...</td>\n",
       "      <td>...</td>\n",
       "    </tr>\n",
       "    <tr>\n",
       "      <th>359387</th>\n",
       "      <td>51406</td>\n",
       "      <td>Female</td>\n",
       "      <td>29</td>\n",
       "      <td>6829</td>\n",
       "      <td>10307228</td>\n",
       "      <td>Cash</td>\n",
       "      <td>43162</td>\n",
       "      <td>Yellow Cab</td>\n",
       "      <td>WASHINGTON DC</td>\n",
       "      <td>38.40</td>\n",
       "      <td>668.93</td>\n",
       "      <td>525.3120</td>\n",
       "      <td>418,859</td>\n",
       "      <td>127,001</td>\n",
       "    </tr>\n",
       "    <tr>\n",
       "      <th>359388</th>\n",
       "      <td>51406</td>\n",
       "      <td>Female</td>\n",
       "      <td>29</td>\n",
       "      <td>6829</td>\n",
       "      <td>10319775</td>\n",
       "      <td>Cash</td>\n",
       "      <td>43203</td>\n",
       "      <td>Yellow Cab</td>\n",
       "      <td>WASHINGTON DC</td>\n",
       "      <td>3.57</td>\n",
       "      <td>67.60</td>\n",
       "      <td>44.5536</td>\n",
       "      <td>418,859</td>\n",
       "      <td>127,001</td>\n",
       "    </tr>\n",
       "    <tr>\n",
       "      <th>359389</th>\n",
       "      <td>51406</td>\n",
       "      <td>Female</td>\n",
       "      <td>29</td>\n",
       "      <td>6829</td>\n",
       "      <td>10347676</td>\n",
       "      <td>Card</td>\n",
       "      <td>43287</td>\n",
       "      <td>Yellow Cab</td>\n",
       "      <td>WASHINGTON DC</td>\n",
       "      <td>23.46</td>\n",
       "      <td>331.97</td>\n",
       "      <td>337.8240</td>\n",
       "      <td>418,859</td>\n",
       "      <td>127,001</td>\n",
       "    </tr>\n",
       "    <tr>\n",
       "      <th>359390</th>\n",
       "      <td>51406</td>\n",
       "      <td>Female</td>\n",
       "      <td>29</td>\n",
       "      <td>6829</td>\n",
       "      <td>10358624</td>\n",
       "      <td>Cash</td>\n",
       "      <td>43314</td>\n",
       "      <td>Yellow Cab</td>\n",
       "      <td>WASHINGTON DC</td>\n",
       "      <td>27.60</td>\n",
       "      <td>358.23</td>\n",
       "      <td>364.3200</td>\n",
       "      <td>418,859</td>\n",
       "      <td>127,001</td>\n",
       "    </tr>\n",
       "    <tr>\n",
       "      <th>359391</th>\n",
       "      <td>51406</td>\n",
       "      <td>Female</td>\n",
       "      <td>29</td>\n",
       "      <td>6829</td>\n",
       "      <td>10370709</td>\n",
       "      <td>Card</td>\n",
       "      <td>43342</td>\n",
       "      <td>Yellow Cab</td>\n",
       "      <td>WASHINGTON DC</td>\n",
       "      <td>34.24</td>\n",
       "      <td>453.11</td>\n",
       "      <td>427.3152</td>\n",
       "      <td>418,859</td>\n",
       "      <td>127,001</td>\n",
       "    </tr>\n",
       "  </tbody>\n",
       "</table>\n",
       "<p>359392 rows × 14 columns</p>\n",
       "</div>"
      ],
      "text/plain": [
       "        Customer ID  Gender  Age  Income (USD/Month)  Transaction ID  \\\n",
       "0             29290    Male   28               10813        10000011   \n",
       "1             29290    Male   28               10813        10351127   \n",
       "2             29290    Male   28               10813        10412921   \n",
       "3             27703    Male   27                9237        10000012   \n",
       "4             27703    Male   27                9237        10320494   \n",
       "...             ...     ...  ...                 ...             ...   \n",
       "359387        51406  Female   29                6829        10307228   \n",
       "359388        51406  Female   29                6829        10319775   \n",
       "359389        51406  Female   29                6829        10347676   \n",
       "359390        51406  Female   29                6829        10358624   \n",
       "359391        51406  Female   29                6829        10370709   \n",
       "\n",
       "       Payment_Mode  Date of Travel     Company           City  KM Travelled  \\\n",
       "0              Card           42377    Pink Cab     ATLANTA GA         30.45   \n",
       "1              Cash           43302  Yellow Cab     ATLANTA GA         26.19   \n",
       "2              Card           43427  Yellow Cab     ATLANTA GA         42.55   \n",
       "3              Card           42375    Pink Cab     ATLANTA GA         28.62   \n",
       "4              Card           43211  Yellow Cab     ATLANTA GA         36.38   \n",
       "...             ...             ...         ...            ...           ...   \n",
       "359387         Cash           43162  Yellow Cab  WASHINGTON DC         38.40   \n",
       "359388         Cash           43203  Yellow Cab  WASHINGTON DC          3.57   \n",
       "359389         Card           43287  Yellow Cab  WASHINGTON DC         23.46   \n",
       "359390         Cash           43314  Yellow Cab  WASHINGTON DC         27.60   \n",
       "359391         Card           43342  Yellow Cab  WASHINGTON DC         34.24   \n",
       "\n",
       "        Price Charged  Cost of Trip Population      Users  \n",
       "0              370.95      313.6350   814,885     24,701   \n",
       "1              598.70      317.4228   814,885     24,701   \n",
       "2              792.05      597.4020   814,885     24,701   \n",
       "3              358.52      334.8540   814,885     24,701   \n",
       "4              721.10      467.1192   814,885     24,701   \n",
       "...               ...           ...        ...        ...  \n",
       "359387         668.93      525.3120   418,859    127,001   \n",
       "359388          67.60       44.5536   418,859    127,001   \n",
       "359389         331.97      337.8240   418,859    127,001   \n",
       "359390         358.23      364.3200   418,859    127,001   \n",
       "359391         453.11      427.3152   418,859    127,001   \n",
       "\n",
       "[359392 rows x 14 columns]"
      ]
     },
     "execution_count": 28,
     "metadata": {},
     "output_type": "execute_result"
    }
   ],
   "source": [
    "cus_tra = pd.merge(customer,transaction, on = 'Customer ID')\n",
    "cus_tra_cab = pd.merge(cus_tra,cab, on = 'Transaction ID')\n",
    "meta_data = pd.merge(cus_tra_cab,city, on = 'City')\n",
    "meta_data"
   ]
  },
  {
   "cell_type": "code",
   "execution_count": 46,
   "id": "6469c1dd",
   "metadata": {},
   "outputs": [
    {
     "data": {
      "text/plain": [
       "Customer ID           False\n",
       "Gender                False\n",
       "Age                   False\n",
       "Income (USD/Month)    False\n",
       "Transaction ID        False\n",
       "Payment_Mode          False\n",
       "Date of Travel        False\n",
       "Company               False\n",
       "City                  False\n",
       "KM Travelled          False\n",
       "Price Charged         False\n",
       "Cost of Trip          False\n",
       "Population            False\n",
       "Users                 False\n",
       "dtype: bool"
      ]
     },
     "execution_count": 46,
     "metadata": {},
     "output_type": "execute_result"
    }
   ],
   "source": [
    "meta_data = meta_data.drop_duplicates()\n",
    "meta_data.isnull().any()"
   ]
  },
  {
   "cell_type": "code",
   "execution_count": 39,
   "id": "5fec33cb",
   "metadata": {},
   "outputs": [
    {
     "data": {
      "text/plain": [
       "Index(['Customer ID', 'Gender', 'Age', 'Income (USD/Month)', 'Transaction ID',\n",
       "       'Payment_Mode', 'Date of Travel', 'Company', 'City', 'KM Travelled',\n",
       "       'Price Charged', 'Cost of Trip', 'Population', 'Users'],\n",
       "      dtype='object')"
      ]
     },
     "execution_count": 39,
     "metadata": {},
     "output_type": "execute_result"
    }
   ],
   "source": [
    "meta_data.columns"
   ]
  },
  {
   "cell_type": "markdown",
   "id": "c3e8dc07",
   "metadata": {},
   "source": [
    "# Feature Engineering "
   ]
  },
  {
   "cell_type": "code",
   "execution_count": 148,
   "id": "48af3275",
   "metadata": {},
   "outputs": [],
   "source": [
    "dataset = meta_data[['City','Gender', 'Age', 'Income (USD/Month)','Date of Travel', \\\n",
    "                     'Company','KM Travelled', 'Price Charged', 'Cost of Trip', 'Population', 'Users']]\n",
    "\n",
    "dataset = dataset.rename(columns={'Gender': 'gender',\n",
    "                       'Age': 'age',\n",
    "                       'Income (USD/Month)':'income',\n",
    "                       'Date of Travel':'date_of_travel',\n",
    "                       'Company':'company',\n",
    "                       'KM Travelled':'distance_travelled',\n",
    "                       'Price Charged':'price', \n",
    "                       'Cost of Trip':'cost',\n",
    "                       'Population':'population',\n",
    "                       'Users':'user_amount',\n",
    "                       'City':'city'}, inplace=False)"
   ]
  },
  {
   "cell_type": "code",
   "execution_count": 149,
   "id": "e9ecfff4",
   "metadata": {},
   "outputs": [],
   "source": [
    "dataset.city = dataset.city.apply(lambda x: ' '.join(x.split(' ')[:-1]).lower())\n",
    "dataset['profit'] = dataset.price - dataset.cost\n",
    "dataset.population = dataset.population.apply(lambda x: x.replace(',','')).astype(int)\n",
    "dataset.user_amount = dataset.user_amount.apply(lambda x: x.replace(',','')).astype(int)\n",
    "dataset['user_ratio'] =  dataset.user_amount / dataset.population"
   ]
  },
  {
   "cell_type": "code",
   "execution_count": 150,
   "id": "ac93cfbf",
   "metadata": {},
   "outputs": [
    {
     "data": {
      "text/html": [
       "<div>\n",
       "<style scoped>\n",
       "    .dataframe tbody tr th:only-of-type {\n",
       "        vertical-align: middle;\n",
       "    }\n",
       "\n",
       "    .dataframe tbody tr th {\n",
       "        vertical-align: top;\n",
       "    }\n",
       "\n",
       "    .dataframe thead th {\n",
       "        text-align: right;\n",
       "    }\n",
       "</style>\n",
       "<table border=\"1\" class=\"dataframe\">\n",
       "  <thead>\n",
       "    <tr style=\"text-align: right;\">\n",
       "      <th></th>\n",
       "      <th>city</th>\n",
       "      <th>gender</th>\n",
       "      <th>age</th>\n",
       "      <th>income</th>\n",
       "      <th>date_of_travel</th>\n",
       "      <th>company</th>\n",
       "      <th>distance_travelled</th>\n",
       "      <th>price</th>\n",
       "      <th>cost</th>\n",
       "      <th>population</th>\n",
       "      <th>user_amount</th>\n",
       "      <th>profit</th>\n",
       "      <th>user_ratio</th>\n",
       "    </tr>\n",
       "  </thead>\n",
       "  <tbody>\n",
       "    <tr>\n",
       "      <th>0</th>\n",
       "      <td>atlanta</td>\n",
       "      <td>Male</td>\n",
       "      <td>28</td>\n",
       "      <td>10813</td>\n",
       "      <td>42377</td>\n",
       "      <td>Pink Cab</td>\n",
       "      <td>30.45</td>\n",
       "      <td>370.95</td>\n",
       "      <td>313.6350</td>\n",
       "      <td>814885</td>\n",
       "      <td>24701</td>\n",
       "      <td>57.3150</td>\n",
       "      <td>0.030312</td>\n",
       "    </tr>\n",
       "    <tr>\n",
       "      <th>1</th>\n",
       "      <td>atlanta</td>\n",
       "      <td>Male</td>\n",
       "      <td>28</td>\n",
       "      <td>10813</td>\n",
       "      <td>43302</td>\n",
       "      <td>Yellow Cab</td>\n",
       "      <td>26.19</td>\n",
       "      <td>598.70</td>\n",
       "      <td>317.4228</td>\n",
       "      <td>814885</td>\n",
       "      <td>24701</td>\n",
       "      <td>281.2772</td>\n",
       "      <td>0.030312</td>\n",
       "    </tr>\n",
       "    <tr>\n",
       "      <th>2</th>\n",
       "      <td>atlanta</td>\n",
       "      <td>Male</td>\n",
       "      <td>28</td>\n",
       "      <td>10813</td>\n",
       "      <td>43427</td>\n",
       "      <td>Yellow Cab</td>\n",
       "      <td>42.55</td>\n",
       "      <td>792.05</td>\n",
       "      <td>597.4020</td>\n",
       "      <td>814885</td>\n",
       "      <td>24701</td>\n",
       "      <td>194.6480</td>\n",
       "      <td>0.030312</td>\n",
       "    </tr>\n",
       "    <tr>\n",
       "      <th>3</th>\n",
       "      <td>atlanta</td>\n",
       "      <td>Male</td>\n",
       "      <td>27</td>\n",
       "      <td>9237</td>\n",
       "      <td>42375</td>\n",
       "      <td>Pink Cab</td>\n",
       "      <td>28.62</td>\n",
       "      <td>358.52</td>\n",
       "      <td>334.8540</td>\n",
       "      <td>814885</td>\n",
       "      <td>24701</td>\n",
       "      <td>23.6660</td>\n",
       "      <td>0.030312</td>\n",
       "    </tr>\n",
       "    <tr>\n",
       "      <th>4</th>\n",
       "      <td>atlanta</td>\n",
       "      <td>Male</td>\n",
       "      <td>27</td>\n",
       "      <td>9237</td>\n",
       "      <td>43211</td>\n",
       "      <td>Yellow Cab</td>\n",
       "      <td>36.38</td>\n",
       "      <td>721.10</td>\n",
       "      <td>467.1192</td>\n",
       "      <td>814885</td>\n",
       "      <td>24701</td>\n",
       "      <td>253.9808</td>\n",
       "      <td>0.030312</td>\n",
       "    </tr>\n",
       "    <tr>\n",
       "      <th>...</th>\n",
       "      <td>...</td>\n",
       "      <td>...</td>\n",
       "      <td>...</td>\n",
       "      <td>...</td>\n",
       "      <td>...</td>\n",
       "      <td>...</td>\n",
       "      <td>...</td>\n",
       "      <td>...</td>\n",
       "      <td>...</td>\n",
       "      <td>...</td>\n",
       "      <td>...</td>\n",
       "      <td>...</td>\n",
       "      <td>...</td>\n",
       "    </tr>\n",
       "    <tr>\n",
       "      <th>359387</th>\n",
       "      <td>washington</td>\n",
       "      <td>Female</td>\n",
       "      <td>29</td>\n",
       "      <td>6829</td>\n",
       "      <td>43162</td>\n",
       "      <td>Yellow Cab</td>\n",
       "      <td>38.40</td>\n",
       "      <td>668.93</td>\n",
       "      <td>525.3120</td>\n",
       "      <td>418859</td>\n",
       "      <td>127001</td>\n",
       "      <td>143.6180</td>\n",
       "      <td>0.303207</td>\n",
       "    </tr>\n",
       "    <tr>\n",
       "      <th>359388</th>\n",
       "      <td>washington</td>\n",
       "      <td>Female</td>\n",
       "      <td>29</td>\n",
       "      <td>6829</td>\n",
       "      <td>43203</td>\n",
       "      <td>Yellow Cab</td>\n",
       "      <td>3.57</td>\n",
       "      <td>67.60</td>\n",
       "      <td>44.5536</td>\n",
       "      <td>418859</td>\n",
       "      <td>127001</td>\n",
       "      <td>23.0464</td>\n",
       "      <td>0.303207</td>\n",
       "    </tr>\n",
       "    <tr>\n",
       "      <th>359389</th>\n",
       "      <td>washington</td>\n",
       "      <td>Female</td>\n",
       "      <td>29</td>\n",
       "      <td>6829</td>\n",
       "      <td>43287</td>\n",
       "      <td>Yellow Cab</td>\n",
       "      <td>23.46</td>\n",
       "      <td>331.97</td>\n",
       "      <td>337.8240</td>\n",
       "      <td>418859</td>\n",
       "      <td>127001</td>\n",
       "      <td>-5.8540</td>\n",
       "      <td>0.303207</td>\n",
       "    </tr>\n",
       "    <tr>\n",
       "      <th>359390</th>\n",
       "      <td>washington</td>\n",
       "      <td>Female</td>\n",
       "      <td>29</td>\n",
       "      <td>6829</td>\n",
       "      <td>43314</td>\n",
       "      <td>Yellow Cab</td>\n",
       "      <td>27.60</td>\n",
       "      <td>358.23</td>\n",
       "      <td>364.3200</td>\n",
       "      <td>418859</td>\n",
       "      <td>127001</td>\n",
       "      <td>-6.0900</td>\n",
       "      <td>0.303207</td>\n",
       "    </tr>\n",
       "    <tr>\n",
       "      <th>359391</th>\n",
       "      <td>washington</td>\n",
       "      <td>Female</td>\n",
       "      <td>29</td>\n",
       "      <td>6829</td>\n",
       "      <td>43342</td>\n",
       "      <td>Yellow Cab</td>\n",
       "      <td>34.24</td>\n",
       "      <td>453.11</td>\n",
       "      <td>427.3152</td>\n",
       "      <td>418859</td>\n",
       "      <td>127001</td>\n",
       "      <td>25.7948</td>\n",
       "      <td>0.303207</td>\n",
       "    </tr>\n",
       "  </tbody>\n",
       "</table>\n",
       "<p>359392 rows × 13 columns</p>\n",
       "</div>"
      ],
      "text/plain": [
       "              city  gender  age  income  date_of_travel     company  \\\n",
       "0          atlanta    Male   28   10813           42377    Pink Cab   \n",
       "1          atlanta    Male   28   10813           43302  Yellow Cab   \n",
       "2          atlanta    Male   28   10813           43427  Yellow Cab   \n",
       "3          atlanta    Male   27    9237           42375    Pink Cab   \n",
       "4          atlanta    Male   27    9237           43211  Yellow Cab   \n",
       "...            ...     ...  ...     ...             ...         ...   \n",
       "359387  washington  Female   29    6829           43162  Yellow Cab   \n",
       "359388  washington  Female   29    6829           43203  Yellow Cab   \n",
       "359389  washington  Female   29    6829           43287  Yellow Cab   \n",
       "359390  washington  Female   29    6829           43314  Yellow Cab   \n",
       "359391  washington  Female   29    6829           43342  Yellow Cab   \n",
       "\n",
       "        distance_travelled   price      cost  population  user_amount  \\\n",
       "0                    30.45  370.95  313.6350      814885        24701   \n",
       "1                    26.19  598.70  317.4228      814885        24701   \n",
       "2                    42.55  792.05  597.4020      814885        24701   \n",
       "3                    28.62  358.52  334.8540      814885        24701   \n",
       "4                    36.38  721.10  467.1192      814885        24701   \n",
       "...                    ...     ...       ...         ...          ...   \n",
       "359387               38.40  668.93  525.3120      418859       127001   \n",
       "359388                3.57   67.60   44.5536      418859       127001   \n",
       "359389               23.46  331.97  337.8240      418859       127001   \n",
       "359390               27.60  358.23  364.3200      418859       127001   \n",
       "359391               34.24  453.11  427.3152      418859       127001   \n",
       "\n",
       "          profit  user_ratio  \n",
       "0        57.3150    0.030312  \n",
       "1       281.2772    0.030312  \n",
       "2       194.6480    0.030312  \n",
       "3        23.6660    0.030312  \n",
       "4       253.9808    0.030312  \n",
       "...          ...         ...  \n",
       "359387  143.6180    0.303207  \n",
       "359388   23.0464    0.303207  \n",
       "359389   -5.8540    0.303207  \n",
       "359390   -6.0900    0.303207  \n",
       "359391   25.7948    0.303207  \n",
       "\n",
       "[359392 rows x 13 columns]"
      ]
     },
     "execution_count": 150,
     "metadata": {},
     "output_type": "execute_result"
    }
   ],
   "source": [
    "dataset"
   ]
  },
  {
   "cell_type": "code",
   "execution_count": 151,
   "id": "217c9026",
   "metadata": {},
   "outputs": [
    {
     "data": {
      "text/plain": [
       "Index(['city', 'gender', 'age', 'income', 'date_of_travel', 'company',\n",
       "       'distance_travelled', 'price', 'cost', 'population', 'user_amount',\n",
       "       'profit', 'user_ratio'],\n",
       "      dtype='object')"
      ]
     },
     "execution_count": 151,
     "metadata": {},
     "output_type": "execute_result"
    }
   ],
   "source": [
    "dataset.columns"
   ]
  },
  {
   "cell_type": "markdown",
   "id": "ca0ad9cd",
   "metadata": {},
   "source": [
    "# Hypothesis"
   ]
  },
  {
   "cell_type": "markdown",
   "id": "9749b28d",
   "metadata": {},
   "source": [
    "## Hypothesis 1: Is there a trend indicating which company has the highest profits in different cities?"
   ]
  },
  {
   "cell_type": "code",
   "execution_count": 200,
   "id": "58c704c5",
   "metadata": {},
   "outputs": [
    {
     "data": {
      "text/html": [
       "<div>\n",
       "<style scoped>\n",
       "    .dataframe tbody tr th:only-of-type {\n",
       "        vertical-align: middle;\n",
       "    }\n",
       "\n",
       "    .dataframe tbody tr th {\n",
       "        vertical-align: top;\n",
       "    }\n",
       "\n",
       "    .dataframe thead th {\n",
       "        text-align: right;\n",
       "    }\n",
       "</style>\n",
       "<table border=\"1\" class=\"dataframe\">\n",
       "  <thead>\n",
       "    <tr style=\"text-align: right;\">\n",
       "      <th></th>\n",
       "      <th>city</th>\n",
       "      <th>company</th>\n",
       "      <th>profit</th>\n",
       "    </tr>\n",
       "  </thead>\n",
       "  <tbody>\n",
       "    <tr>\n",
       "      <th>0</th>\n",
       "      <td>atlanta</td>\n",
       "      <td>Pink Cab</td>\n",
       "      <td>96050.0760</td>\n",
       "    </tr>\n",
       "    <tr>\n",
       "      <th>1</th>\n",
       "      <td>atlanta</td>\n",
       "      <td>Yellow Cab</td>\n",
       "      <td>746382.8056</td>\n",
       "    </tr>\n",
       "    <tr>\n",
       "      <th>2</th>\n",
       "      <td>austin</td>\n",
       "      <td>Pink Cab</td>\n",
       "      <td>147445.2900</td>\n",
       "    </tr>\n",
       "    <tr>\n",
       "      <th>3</th>\n",
       "      <td>austin</td>\n",
       "      <td>Yellow Cab</td>\n",
       "      <td>379255.7352</td>\n",
       "    </tr>\n",
       "    <tr>\n",
       "      <th>4</th>\n",
       "      <td>boston</td>\n",
       "      <td>Pink Cab</td>\n",
       "      <td>262001.6980</td>\n",
       "    </tr>\n",
       "  </tbody>\n",
       "</table>\n",
       "</div>"
      ],
      "text/plain": [
       "      city     company       profit\n",
       "0  atlanta    Pink Cab   96050.0760\n",
       "1  atlanta  Yellow Cab  746382.8056\n",
       "2   austin    Pink Cab  147445.2900\n",
       "3   austin  Yellow Cab  379255.7352\n",
       "4   boston    Pink Cab  262001.6980"
      ]
     },
     "execution_count": 200,
     "metadata": {},
     "output_type": "execute_result"
    }
   ],
   "source": [
    "hypo1 = dataset.groupby(['city','company']).aggregate({'profit':'sum'}).reset_index()\n",
    "hypo1.head()"
   ]
  },
  {
   "cell_type": "code",
   "execution_count": 201,
   "id": "75770c5a",
   "metadata": {},
   "outputs": [
    {
     "data": {
      "text/plain": [
       "<AxesSubplot:ylabel='city'>"
      ]
     },
     "execution_count": 201,
     "metadata": {},
     "output_type": "execute_result"
    },
    {
     "data": {
      "image/png": "[encoded data removed]",
      "text/plain": [
       "<Figure size 640x480 with 1 Axes>"
      ]
     },
     "metadata": {},
     "output_type": "display_data"
    }
   ],
   "source": [
    "hypo1.pivot(index='city', columns='company', values='profit').plot.barh(rot=0)"
   ]
  },
  {
   "cell_type": "markdown",
   "id": "ce4e4a9b",
   "metadata": {},
   "source": [
    "### Yellow Cab Company achieves a higher average profit margin than Pink Cab Company in all cities."
   ]
  },
  {
   "cell_type": "markdown",
   "id": "c8b9c166",
   "metadata": {},
   "source": [
    "## Hypothesis 2: Is there a trend indicating which company has the highest distance travelled in different cities?"
   ]
  },
  {
   "cell_type": "code",
   "execution_count": 231,
   "id": "97fcf604",
   "metadata": {},
   "outputs": [
    {
     "data": {
      "text/html": [
       "<div>\n",
       "<style scoped>\n",
       "    .dataframe tbody tr th:only-of-type {\n",
       "        vertical-align: middle;\n",
       "    }\n",
       "\n",
       "    .dataframe tbody tr th {\n",
       "        vertical-align: top;\n",
       "    }\n",
       "\n",
       "    .dataframe thead th {\n",
       "        text-align: right;\n",
       "    }\n",
       "</style>\n",
       "<table border=\"1\" class=\"dataframe\">\n",
       "  <thead>\n",
       "    <tr style=\"text-align: right;\">\n",
       "      <th></th>\n",
       "      <th>city</th>\n",
       "      <th>company</th>\n",
       "      <th>distance_travelled</th>\n",
       "    </tr>\n",
       "  </thead>\n",
       "  <tbody>\n",
       "    <tr>\n",
       "      <th>0</th>\n",
       "      <td>atlanta</td>\n",
       "      <td>Pink Cab</td>\n",
       "      <td>39715.17</td>\n",
       "    </tr>\n",
       "    <tr>\n",
       "      <th>1</th>\n",
       "      <td>atlanta</td>\n",
       "      <td>Yellow Cab</td>\n",
       "      <td>128928.59</td>\n",
       "    </tr>\n",
       "    <tr>\n",
       "      <th>2</th>\n",
       "      <td>austin</td>\n",
       "      <td>Pink Cab</td>\n",
       "      <td>41038.42</td>\n",
       "    </tr>\n",
       "    <tr>\n",
       "      <th>3</th>\n",
       "      <td>austin</td>\n",
       "      <td>Yellow Cab</td>\n",
       "      <td>68168.88</td>\n",
       "    </tr>\n",
       "    <tr>\n",
       "      <th>4</th>\n",
       "      <td>boston</td>\n",
       "      <td>Pink Cab</td>\n",
       "      <td>117933.51</td>\n",
       "    </tr>\n",
       "  </tbody>\n",
       "</table>\n",
       "</div>"
      ],
      "text/plain": [
       "      city     company  distance_travelled\n",
       "0  atlanta    Pink Cab            39715.17\n",
       "1  atlanta  Yellow Cab           128928.59\n",
       "2   austin    Pink Cab            41038.42\n",
       "3   austin  Yellow Cab            68168.88\n",
       "4   boston    Pink Cab           117933.51"
      ]
     },
     "execution_count": 231,
     "metadata": {},
     "output_type": "execute_result"
    }
   ],
   "source": [
    "hypo2 = dataset.groupby(['city','company']).aggregate({'distance_travelled':'sum'}).reset_index()\n",
    "hypo2.head()"
   ]
  },
  {
   "cell_type": "code",
   "execution_count": 232,
   "id": "3997d4f0",
   "metadata": {},
   "outputs": [
    {
     "data": {
      "text/plain": [
       "<AxesSubplot:ylabel='city'>"
      ]
     },
     "execution_count": 232,
     "metadata": {},
     "output_type": "execute_result"
    },
    {
     "data": {
      "image/png": "[encoded data removed]",
      "text/plain": [
       "<Figure size 640x480 with 1 Axes>"
      ]
     },
     "metadata": {},
     "output_type": "display_data"
    }
   ],
   "source": [
    "hypo2.pivot(index='city', columns='company', values='distance_travelled').plot.barh(rot=0)"
   ]
  },
  {
   "cell_type": "markdown",
   "id": "5b5fb727",
   "metadata": {},
   "source": [
    "### Yellow Cab Company achieves a higher average travel distance margin than Pink Cab Company in all cities.\n"
   ]
  },
  {
   "cell_type": "markdown",
   "id": "2cb3e446",
   "metadata": {},
   "source": [
    "## Hypothesis 3: Is there a trend indicating which company has the highest amount of transactions in different cities ?"
   ]
  },
  {
   "cell_type": "code",
   "execution_count": 202,
   "id": "5889cba9",
   "metadata": {},
   "outputs": [
    {
     "data": {
      "text/html": [
       "<div>\n",
       "<style scoped>\n",
       "    .dataframe tbody tr th:only-of-type {\n",
       "        vertical-align: middle;\n",
       "    }\n",
       "\n",
       "    .dataframe tbody tr th {\n",
       "        vertical-align: top;\n",
       "    }\n",
       "\n",
       "    .dataframe thead th {\n",
       "        text-align: right;\n",
       "    }\n",
       "</style>\n",
       "<table border=\"1\" class=\"dataframe\">\n",
       "  <thead>\n",
       "    <tr style=\"text-align: right;\">\n",
       "      <th></th>\n",
       "      <th>city</th>\n",
       "      <th>company</th>\n",
       "      <th>age</th>\n",
       "    </tr>\n",
       "  </thead>\n",
       "  <tbody>\n",
       "    <tr>\n",
       "      <th>0</th>\n",
       "      <td>atlanta</td>\n",
       "      <td>Pink Cab</td>\n",
       "      <td>1762</td>\n",
       "    </tr>\n",
       "    <tr>\n",
       "      <th>1</th>\n",
       "      <td>atlanta</td>\n",
       "      <td>Yellow Cab</td>\n",
       "      <td>5795</td>\n",
       "    </tr>\n",
       "    <tr>\n",
       "      <th>2</th>\n",
       "      <td>austin</td>\n",
       "      <td>Pink Cab</td>\n",
       "      <td>1868</td>\n",
       "    </tr>\n",
       "    <tr>\n",
       "      <th>3</th>\n",
       "      <td>austin</td>\n",
       "      <td>Yellow Cab</td>\n",
       "      <td>3028</td>\n",
       "    </tr>\n",
       "    <tr>\n",
       "      <th>4</th>\n",
       "      <td>boston</td>\n",
       "      <td>Pink Cab</td>\n",
       "      <td>5186</td>\n",
       "    </tr>\n",
       "  </tbody>\n",
       "</table>\n",
       "</div>"
      ],
      "text/plain": [
       "      city     company   age\n",
       "0  atlanta    Pink Cab  1762\n",
       "1  atlanta  Yellow Cab  5795\n",
       "2   austin    Pink Cab  1868\n",
       "3   austin  Yellow Cab  3028\n",
       "4   boston    Pink Cab  5186"
      ]
     },
     "execution_count": 202,
     "metadata": {},
     "output_type": "execute_result"
    }
   ],
   "source": [
    "hypo3 = dataset.groupby(['city','company']).aggregate({'age':'count'}).reset_index()\n",
    "hypo3.head()"
   ]
  },
  {
   "cell_type": "code",
   "execution_count": 203,
   "id": "165a71d9",
   "metadata": {},
   "outputs": [
    {
     "data": {
      "text/plain": [
       "<AxesSubplot:ylabel='city'>"
      ]
     },
     "execution_count": 203,
     "metadata": {},
     "output_type": "execute_result"
    },
    {
     "data": {
      "image/png": "[encoded data removed]",
      "text/plain": [
       "<Figure size 640x480 with 1 Axes>"
      ]
     },
     "metadata": {},
     "output_type": "display_data"
    }
   ],
   "source": [
    "hypo3.pivot(index='city', columns='company', values='age').plot.barh(rot=0)"
   ]
  },
  {
   "cell_type": "markdown",
   "id": "751ffdad",
   "metadata": {},
   "source": [
    "### Yellow Cab Company achieves a higher amounf of transactions margin than Pink Cab Company in all cities.\n"
   ]
  },
  {
   "cell_type": "markdown",
   "id": "6c6ecaef",
   "metadata": {},
   "source": [
    "## Hypothesis 4: Is there a trend indicating which company's profit gain has changed overtime ?"
   ]
  },
  {
   "cell_type": "code",
   "execution_count": 224,
   "id": "71627c3b",
   "metadata": {},
   "outputs": [
    {
     "data": {
      "text/html": [
       "<div>\n",
       "<style scoped>\n",
       "    .dataframe tbody tr th:only-of-type {\n",
       "        vertical-align: middle;\n",
       "    }\n",
       "\n",
       "    .dataframe tbody tr th {\n",
       "        vertical-align: top;\n",
       "    }\n",
       "\n",
       "    .dataframe thead th {\n",
       "        text-align: right;\n",
       "    }\n",
       "</style>\n",
       "<table border=\"1\" class=\"dataframe\">\n",
       "  <thead>\n",
       "    <tr style=\"text-align: right;\">\n",
       "      <th></th>\n",
       "      <th>date_of_travel</th>\n",
       "      <th>company</th>\n",
       "      <th>profit</th>\n",
       "    </tr>\n",
       "  </thead>\n",
       "  <tbody>\n",
       "    <tr>\n",
       "      <th>2040</th>\n",
       "      <td>43391</td>\n",
       "      <td>Pink Cab</td>\n",
       "      <td>41.959798</td>\n",
       "    </tr>\n",
       "    <tr>\n",
       "      <th>2041</th>\n",
       "      <td>43391</td>\n",
       "      <td>Yellow Cab</td>\n",
       "      <td>108.642733</td>\n",
       "    </tr>\n",
       "    <tr>\n",
       "      <th>2042</th>\n",
       "      <td>43392</td>\n",
       "      <td>Pink Cab</td>\n",
       "      <td>66.140535</td>\n",
       "    </tr>\n",
       "    <tr>\n",
       "      <th>2043</th>\n",
       "      <td>43392</td>\n",
       "      <td>Yellow Cab</td>\n",
       "      <td>146.424984</td>\n",
       "    </tr>\n",
       "    <tr>\n",
       "      <th>2044</th>\n",
       "      <td>43393</td>\n",
       "      <td>Pink Cab</td>\n",
       "      <td>62.754599</td>\n",
       "    </tr>\n",
       "  </tbody>\n",
       "</table>\n",
       "</div>"
      ],
      "text/plain": [
       "      date_of_travel     company      profit\n",
       "2040           43391    Pink Cab   41.959798\n",
       "2041           43391  Yellow Cab  108.642733\n",
       "2042           43392    Pink Cab   66.140535\n",
       "2043           43392  Yellow Cab  146.424984\n",
       "2044           43393    Pink Cab   62.754599"
      ]
     },
     "execution_count": 224,
     "metadata": {},
     "output_type": "execute_result"
    }
   ],
   "source": [
    "hypo4 = dataset.groupby(['date_of_travel','company']).aggregate({'profit':'mean'}).reset_index().iloc[-150:]\n",
    "hypo3.head()"
   ]
  },
  {
   "cell_type": "code",
   "execution_count": 225,
   "id": "5dee003f",
   "metadata": {},
   "outputs": [
    {
     "data": {
      "text/plain": [
       "<AxesSubplot:xlabel='date_of_travel'>"
      ]
     },
     "execution_count": 225,
     "metadata": {},
     "output_type": "execute_result"
    },
    {
     "data": {
      "image/png": "[encoded data removed]",
      "text/plain": [
       "<Figure size 640x480 with 1 Axes>"
      ]
     },
     "metadata": {},
     "output_type": "display_data"
    }
   ],
   "source": [
    "hypo4.pivot(index='date_of_travel', columns='company', values='profit').plot.line(rot=0)"
   ]
  },
  {
   "cell_type": "markdown",
   "id": "a3d61e5b",
   "metadata": {},
   "source": [
    "### In the last 150 days, Pink Cab shows a general growing trend in terms of profit gain while Yellow Cab shows a little to no change in the trend of profit gain. The overall profit gain of Yellow Cab is still higher than that of the Pink Cab\n"
   ]
  },
  {
   "cell_type": "markdown",
   "id": "d0cbbe41",
   "metadata": {},
   "source": []
  },
  {
   "cell_type": "markdown",
   "id": "132c38de",
   "metadata": {},
   "source": [
    "## Hypothesis 5: Is there a trend indicating which company has the highest average user income in different cities ?"
   ]
  },
  {
   "cell_type": "code",
   "execution_count": 227,
   "id": "e18b3b87",
   "metadata": {},
   "outputs": [
    {
     "data": {
      "text/html": [
       "<div>\n",
       "<style scoped>\n",
       "    .dataframe tbody tr th:only-of-type {\n",
       "        vertical-align: middle;\n",
       "    }\n",
       "\n",
       "    .dataframe tbody tr th {\n",
       "        vertical-align: top;\n",
       "    }\n",
       "\n",
       "    .dataframe thead th {\n",
       "        text-align: right;\n",
       "    }\n",
       "</style>\n",
       "<table border=\"1\" class=\"dataframe\">\n",
       "  <thead>\n",
       "    <tr style=\"text-align: right;\">\n",
       "      <th></th>\n",
       "      <th>city</th>\n",
       "      <th>company</th>\n",
       "      <th>income</th>\n",
       "    </tr>\n",
       "  </thead>\n",
       "  <tbody>\n",
       "    <tr>\n",
       "      <th>0</th>\n",
       "      <td>atlanta</td>\n",
       "      <td>Pink Cab</td>\n",
       "      <td>15033.438706</td>\n",
       "    </tr>\n",
       "    <tr>\n",
       "      <th>1</th>\n",
       "      <td>atlanta</td>\n",
       "      <td>Yellow Cab</td>\n",
       "      <td>14902.657981</td>\n",
       "    </tr>\n",
       "    <tr>\n",
       "      <th>2</th>\n",
       "      <td>austin</td>\n",
       "      <td>Pink Cab</td>\n",
       "      <td>14863.617773</td>\n",
       "    </tr>\n",
       "    <tr>\n",
       "      <th>3</th>\n",
       "      <td>austin</td>\n",
       "      <td>Yellow Cab</td>\n",
       "      <td>14593.396631</td>\n",
       "    </tr>\n",
       "    <tr>\n",
       "      <th>4</th>\n",
       "      <td>boston</td>\n",
       "      <td>Pink Cab</td>\n",
       "      <td>15383.779213</td>\n",
       "    </tr>\n",
       "  </tbody>\n",
       "</table>\n",
       "</div>"
      ],
      "text/plain": [
       "      city     company        income\n",
       "0  atlanta    Pink Cab  15033.438706\n",
       "1  atlanta  Yellow Cab  14902.657981\n",
       "2   austin    Pink Cab  14863.617773\n",
       "3   austin  Yellow Cab  14593.396631\n",
       "4   boston    Pink Cab  15383.779213"
      ]
     },
     "execution_count": 227,
     "metadata": {},
     "output_type": "execute_result"
    }
   ],
   "source": [
    "hypo5 = dataset.groupby(['city','company']).aggregate({'income':'mean'}).reset_index()\n",
    "hypo5.head()"
   ]
  },
  {
   "cell_type": "code",
   "execution_count": 228,
   "id": "7bdebf30",
   "metadata": {},
   "outputs": [
    {
     "data": {
      "text/plain": [
       "<AxesSubplot:ylabel='city'>"
      ]
     },
     "execution_count": 228,
     "metadata": {},
     "output_type": "execute_result"
    },
    {
     "data": {
      "image/png": "[encoded data removed]",
      "text/plain": [
       "<Figure size 640x480 with 1 Axes>"
      ]
     },
     "metadata": {},
     "output_type": "display_data"
    }
   ],
   "source": [
    "hypo5.pivot(index='city', columns='company', values='income').plot.barh(rot=0)"
   ]
  },
  {
   "cell_type": "markdown",
   "id": "da618a17",
   "metadata": {},
   "source": [
    "### Both Companies users have a similer average of income"
   ]
  },
  {
   "cell_type": "markdown",
   "id": "dee2f7dd",
   "metadata": {},
   "source": [
    "# Final Recommendation\n",
    "\n",
    "## It appears that the Yellow Cab company has a higher profit gain than Pink Cab across all cities during the period from January 31, 2016, to December 31, 2018. Concurrently, Yellow Cab has more transactions and a higher amount of distance traveled in each city, indicating that Yellow Cab is more active than Pink Cab. Moreover, Yellow Cab does not show a trend of diminishing values in the last 150 days in terms of profit gain. Finally, the quality of the users is similar between Yellow Cab and Pink Cab. Therefore, it is more advisable to invest in Yellow Cab."
   ]
  },
  {
   "cell_type": "code",
   "execution_count": null,
   "id": "45d6039c",
   "metadata": {},
   "outputs": [],
   "source": []
  }
 ],
 "metadata": {
  "kernelspec": {
   "display_name": "Python 3 (ipykernel)",
   "language": "python",
   "name": "python3"
  },
  "language_info": {
   "codemirror_mode": {
    "name": "ipython",
    "version": 3
   },
   "file_extension": ".py",
   "mimetype": "text/x-python",
   "name": "python",
   "nbconvert_exporter": "python",
   "pygments_lexer": "ipython3",
   "version": "3.9.13"
  }
 },
 "nbformat": 4,
 "nbformat_minor": 5
}
