{
 "cells": [
  {
   "cell_type": "code",
   "execution_count": 1,
   "id": "46bb81a0",
   "metadata": {},
   "outputs": [],
   "source": [
    "import pandas as pd\n",
    "import numpy as np"
   ]
  },
  {
   "cell_type": "code",
   "execution_count": 2,
   "id": "5b8d11cd",
   "metadata": {},
   "outputs": [
    {
     "data": {
      "text/html": [
       "<div>\n",
       "<style scoped>\n",
       "    .dataframe tbody tr th:only-of-type {\n",
       "        vertical-align: middle;\n",
       "    }\n",
       "\n",
       "    .dataframe tbody tr th {\n",
       "        vertical-align: top;\n",
       "    }\n",
       "\n",
       "    .dataframe thead th {\n",
       "        text-align: right;\n",
       "    }\n",
       "</style>\n",
       "<table border=\"1\" class=\"dataframe\">\n",
       "  <thead>\n",
       "    <tr style=\"text-align: right;\">\n",
       "      <th></th>\n",
       "      <th>Product</th>\n",
       "      <th>date</th>\n",
       "      <th>Sales</th>\n",
       "      <th>Price Discount (%)</th>\n",
       "      <th>In-Store Promo</th>\n",
       "      <th>Catalogue Promo</th>\n",
       "      <th>Store End Promo</th>\n",
       "      <th>Google_Mobility</th>\n",
       "      <th>Covid_Flag</th>\n",
       "      <th>V_DAY</th>\n",
       "      <th>EASTER</th>\n",
       "      <th>CHRISTMAS</th>\n",
       "    </tr>\n",
       "  </thead>\n",
       "  <tbody>\n",
       "    <tr>\n",
       "      <th>0</th>\n",
       "      <td>SKU1</td>\n",
       "      <td>2/5/2017</td>\n",
       "      <td>27750</td>\n",
       "      <td>0%</td>\n",
       "      <td>0</td>\n",
       "      <td>0</td>\n",
       "      <td>0</td>\n",
       "      <td>0.0</td>\n",
       "      <td>0</td>\n",
       "      <td>0</td>\n",
       "      <td>0</td>\n",
       "      <td>0</td>\n",
       "    </tr>\n",
       "    <tr>\n",
       "      <th>1</th>\n",
       "      <td>SKU1</td>\n",
       "      <td>2/12/2017</td>\n",
       "      <td>29023</td>\n",
       "      <td>0%</td>\n",
       "      <td>1</td>\n",
       "      <td>0</td>\n",
       "      <td>1</td>\n",
       "      <td>0.0</td>\n",
       "      <td>0</td>\n",
       "      <td>1</td>\n",
       "      <td>0</td>\n",
       "      <td>0</td>\n",
       "    </tr>\n",
       "    <tr>\n",
       "      <th>2</th>\n",
       "      <td>SKU1</td>\n",
       "      <td>2/19/2017</td>\n",
       "      <td>45630</td>\n",
       "      <td>17%</td>\n",
       "      <td>0</td>\n",
       "      <td>0</td>\n",
       "      <td>0</td>\n",
       "      <td>0.0</td>\n",
       "      <td>0</td>\n",
       "      <td>0</td>\n",
       "      <td>0</td>\n",
       "      <td>0</td>\n",
       "    </tr>\n",
       "    <tr>\n",
       "      <th>3</th>\n",
       "      <td>SKU1</td>\n",
       "      <td>2/26/2017</td>\n",
       "      <td>26789</td>\n",
       "      <td>0%</td>\n",
       "      <td>1</td>\n",
       "      <td>0</td>\n",
       "      <td>1</td>\n",
       "      <td>0.0</td>\n",
       "      <td>0</td>\n",
       "      <td>0</td>\n",
       "      <td>0</td>\n",
       "      <td>0</td>\n",
       "    </tr>\n",
       "    <tr>\n",
       "      <th>4</th>\n",
       "      <td>SKU1</td>\n",
       "      <td>3/5/2017</td>\n",
       "      <td>41999</td>\n",
       "      <td>17%</td>\n",
       "      <td>0</td>\n",
       "      <td>0</td>\n",
       "      <td>0</td>\n",
       "      <td>0.0</td>\n",
       "      <td>0</td>\n",
       "      <td>0</td>\n",
       "      <td>0</td>\n",
       "      <td>0</td>\n",
       "    </tr>\n",
       "  </tbody>\n",
       "</table>\n",
       "</div>"
      ],
      "text/plain": [
       "  Product       date  Sales Price Discount (%)  In-Store Promo  \\\n",
       "0    SKU1   2/5/2017  27750                 0%               0   \n",
       "1    SKU1  2/12/2017  29023                 0%               1   \n",
       "2    SKU1  2/19/2017  45630                17%               0   \n",
       "3    SKU1  2/26/2017  26789                 0%               1   \n",
       "4    SKU1   3/5/2017  41999                17%               0   \n",
       "\n",
       "   Catalogue Promo  Store End Promo  Google_Mobility  Covid_Flag  V_DAY  \\\n",
       "0                0                0              0.0           0      0   \n",
       "1                0                1              0.0           0      1   \n",
       "2                0                0              0.0           0      0   \n",
       "3                0                1              0.0           0      0   \n",
       "4                0                0              0.0           0      0   \n",
       "\n",
       "   EASTER  CHRISTMAS  \n",
       "0       0          0  \n",
       "1       0          0  \n",
       "2       0          0  \n",
       "3       0          0  \n",
       "4       0          0  "
      ]
     },
     "execution_count": 2,
     "metadata": {},
     "output_type": "execute_result"
    }
   ],
   "source": [
    "data = pd.read_csv('forecasting.csv')\n",
    "data.head()"
   ]
  },
  {
   "cell_type": "code",
   "execution_count": 3,
   "id": "6110ebc7",
   "metadata": {},
   "outputs": [
    {
     "data": {
      "text/plain": [
       "(1218, 12)"
      ]
     },
     "execution_count": 3,
     "metadata": {},
     "output_type": "execute_result"
    }
   ],
   "source": [
    "data.shape"
   ]
  },
  {
   "cell_type": "code",
   "execution_count": 4,
   "id": "5781d47f",
   "metadata": {},
   "outputs": [
    {
     "data": {
      "text/plain": [
       "Index(['Product', 'date', 'Sales', 'Price Discount (%)', 'In-Store Promo',\n",
       "       'Catalogue Promo', 'Store End Promo', 'Google_Mobility', 'Covid_Flag',\n",
       "       'V_DAY', 'EASTER', 'CHRISTMAS'],\n",
       "      dtype='object')"
      ]
     },
     "execution_count": 4,
     "metadata": {},
     "output_type": "execute_result"
    }
   ],
   "source": [
    "data.columns"
   ]
  },
  {
   "cell_type": "code",
   "execution_count": null,
   "id": "12254999",
   "metadata": {},
   "outputs": [],
   "source": []
  }
 ],
 "metadata": {
  "kernelspec": {
   "display_name": "Python 3 (ipykernel)",
   "language": "python",
   "name": "python3"
  },
  "language_info": {
   "codemirror_mode": {
    "name": "ipython",
    "version": 3
   },
   "file_extension": ".py",
   "mimetype": "text/x-python",
   "name": "python",
   "nbconvert_exporter": "python",
   "pygments_lexer": "ipython3",
   "version": "3.9.13"
  }
 },
 "nbformat": 4,
 "nbformat_minor": 5
}
